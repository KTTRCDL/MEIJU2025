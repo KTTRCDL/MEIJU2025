{
 "cells": [
  {
   "cell_type": "markdown",
   "metadata": {},
   "source": [
    "## Create Transcription For Track\n",
    "For Training and validation data(Temp): using MEIJU2025-baseline/scripts/run_release_step2_lexical0.sh"
   ]
  },
  {
   "cell_type": "markdown",
   "metadata": {},
   "source": [
    "### Combine transcription.csv and Testing_files.csv"
   ]
  },
  {
   "cell_type": "code",
   "execution_count": null,
   "metadata": {},
   "outputs": [],
   "source": [
    "import pandas as pd\n",
    "import os\n",
    "\n",
    "# change pwd to the directory of the script\n",
    "CURRENT_PROJECT_PATH = '~/project/MEIJU2025'\n",
    "\n",
    "DATA_ROOT = '~/data/MC-EIU/'\n",
    "DATA_PROCESSED = os.path.join(DATA_ROOT, 'Processed')"
   ]
  },
  {
   "cell_type": "code",
   "execution_count": null,
   "metadata": {},
   "outputs": [],
   "source": [
    "# Track 1 English Transcription\n",
    "track1_english_transcription_original = os.path.join(DATA_PROCESSED, 'Track1', 'English', 'Annotation', 'transcription_original.csv')\n",
    "if not os.path.exists(track1_english_transcription_original):\n",
    "    os.system(f'cp {DATA_PROCESSED}/Track1/English/Annotation/transcription.csv {track1_english_transcription_original}')\n",
    "os.system(f'cp {track1_english_transcription_original} {CURRENT_PROJECT_PATH}/datasets/MC-EIU_Track1_English_Processed/')\n",
    "track1_english_transcription_original = f'{CURRENT_PROJECT_PATH}/datasets/MC-EIU_Track1_English_Processed/transcription_original.csv'\n",
    "\n",
    "track1_english_transcription_test = os.path.join(DATA_PROCESSED, 'Track1', 'English', 'Annotation', 'English_Testing_files.csv')\n",
    "os.system(f'cp {track1_english_transcription_test} {CURRENT_PROJECT_PATH}/datasets/MC-EIU_Track1_English_Processed/')\n",
    "track1_english_transcription_test = f'{CURRENT_PROJECT_PATH}/datasets/MC-EIU_Track1_English_Processed/English_Testing_files.csv'\n",
    "\n",
    "track1_english_transcription_asr = os.path.join(DATA_PROCESSED, 'Track1', 'English', 'NoAnnotation', 'transcription.csv')\n",
    "os.system(f'cp {track1_english_transcription_asr} {CURRENT_PROJECT_PATH}/datasets/MC-EIU_Track1_English_Processed/transcription_NoAnnotation.csv')\n",
    "track1_english_transcription_asr = f'{CURRENT_PROJECT_PATH}/datasets/MC-EIU_Track1_English_Processed/transcription_NoAnnotation.csv'"
   ]
  },
  {
   "cell_type": "code",
   "execution_count": null,
   "metadata": {},
   "outputs": [],
   "source": [
    "track1_english_transcription_original_df = pd.read_csv(track1_english_transcription_original)\n",
    "track1_english_transcription_test_df = pd.read_csv(track1_english_transcription_test)\n",
    "track1_english_transcription_asr_df = pd.read_csv(track1_english_transcription_asr)\n",
    "\n",
    "track1_english_transcription_original_df['name'] = track1_english_transcription_original_df['FileName'].apply(lambda x: x.split('.')[0])\n",
    "track1_english_transcription_original_df.drop(columns=['FileName'], inplace=True)\n",
    "\n",
    "track1_english_transcription_test_df['name'] = track1_english_transcription_test_df['FileName'].apply(lambda x: x.split('.')[0])\n",
    "track1_english_transcription_test_df.drop(columns=['FileName'], inplace=True)\n",
    "\n",
    "track1_english_transcription = pd.concat([track1_english_transcription_original_df, track1_english_transcription_test_df, track1_english_transcription_asr_df], axis=0)\n",
    "track1_english_transcription"
   ]
  },
  {
   "cell_type": "code",
   "execution_count": null,
   "metadata": {},
   "outputs": [],
   "source": [
    "track1_english_transcription.to_csv(f'{CURRENT_PROJECT_PATH}/datasets/MC-EIU_Track1_English_Processed/transcription.csv', \n",
    "                                    index=False, columns=['name', 'sentence', 'emotion', 'intent'])"
   ]
  },
  {
   "cell_type": "code",
   "execution_count": null,
   "metadata": {},
   "outputs": [],
   "source": [
    "# Track 1 Mandarin Transcription\n",
    "track1_mandarin_transcription_original = os.path.join(DATA_PROCESSED, 'Track1', 'Mandarin', 'Annotation', 'transcription_original.csv')\n",
    "if not os.path.exists(track1_mandarin_transcription_original):\n",
    "    os.system(f'cp {DATA_PROCESSED}/Track1/Mandarin/Annotation/transcription.csv {track1_mandarin_transcription_original}')\n",
    "os.system(f'cp {track1_mandarin_transcription_original} {CURRENT_PROJECT_PATH}/datasets/MC-EIU_Track1_Mandarin_Processed/')\n",
    "track1_mandarin_transcription_original = f'{CURRENT_PROJECT_PATH}/datasets/MC-EIU_Track1_Mandarin_Processed/transcription_original.csv'\n",
    "\n",
    "track1_mandarin_transcription_test = os.path.join(DATA_PROCESSED, 'Track1', 'Mandarin', 'Annotation', 'Mandarin_Testing_files.csv')\n",
    "os.system(f'cp {track1_mandarin_transcription_test} {CURRENT_PROJECT_PATH}/datasets/MC-EIU_Track1_Mandarin_Processed/')\n",
    "track1_mandarin_transcription_test = f'{CURRENT_PROJECT_PATH}/datasets/MC-EIU_Track1_Mandarin_Processed/Mandarin_Testing_files.csv'\n",
    "\n",
    "track1_mandarin_transcription_asr = os.path.join(DATA_PROCESSED, 'Track1', 'Mandarin', 'NoAnnotation', 'transcription.csv')\n",
    "os.system(f'cp {track1_mandarin_transcription_asr} {CURRENT_PROJECT_PATH}/datasets/MC-EIU_Track1_Mandarin_Processed/transcription_NoAnnotation.csv')\n",
    "track1_mandarin_transcription_asr = f'{CURRENT_PROJECT_PATH}/datasets/MC-EIU_Track1_Mandarin_Processed/transcription_NoAnnotation.csv'"
   ]
  },
  {
   "cell_type": "code",
   "execution_count": null,
   "metadata": {},
   "outputs": [],
   "source": [
    "track1_mandarin_transcription_original_df = pd.read_csv(track1_mandarin_transcription_original)\n",
    "track1_mandarin_transcription_test_df = pd.read_csv(track1_mandarin_transcription_test)\n",
    "track1_mandarin_transcription_asr_df = pd.read_csv(track1_mandarin_transcription_asr)\n",
    "\n",
    "track1_mandarin_transcription_original_df['name'] = track1_mandarin_transcription_original_df['FileName'].apply(lambda x: x.split('.')[0])\n",
    "track1_mandarin_transcription_original_df.drop(columns=['FileName'], inplace=True)\n",
    "\n",
    "track1_mandarin_transcription_test_df['name'] = track1_mandarin_transcription_test_df['FileName'].apply(lambda x: x.split('.')[0])\n",
    "track1_mandarin_transcription_test_df.drop(columns=['FileName'], inplace=True)\n",
    "\n",
    "track1_mandarin_transcription = pd.concat([track1_mandarin_transcription_original_df, track1_mandarin_transcription_test_df, track1_mandarin_transcription_asr_df], axis=0)\n",
    "track1_mandarin_transcription"
   ]
  },
  {
   "cell_type": "code",
   "execution_count": null,
   "metadata": {},
   "outputs": [],
   "source": [
    "track1_mandarin_transcription.to_csv(f'{CURRENT_PROJECT_PATH}/datasets/MC-EIU_Track1_Mandarin_Processed/transcription.csv',\n",
    "                                    index=False, columns=['name', 'sentence', 'emotion', 'intent'])"
   ]
  },
  {
   "cell_type": "code",
   "execution_count": null,
   "metadata": {},
   "outputs": [],
   "source": [
    "# Track 2 English Transcription\n",
    "track2_english_transcription_original = \"data/MC-EIU/Processed/Track2/English/transcription_origin.csv\"\n",
    "track2_english_transcription_test = \"data/MC-EIU/Processed/Track2/English/Track2_English_Testing_files.csv\"\n",
    "\n",
    "track2_english_transcription_original_df = pd.read_csv(track2_english_transcription_original)\n",
    "track2_english_transcription_test_df = pd.read_csv(track2_english_transcription_test)\n",
    "\n",
    "track2_english_transcription_original_df['name'] = track2_english_transcription_original_df['FileName'].apply(lambda x: x.split('.')[0])\n",
    "track2_english_transcription_original_df.drop(columns=['FileName'], inplace=True)\n",
    "\n",
    "track2_english_transcription_test_df['name'] = track2_english_transcription_test_df['FileName'].apply(lambda x: x.split('.')[0])\n",
    "track2_english_transcription_test_df.drop(columns=['FileName'], inplace=True)\n",
    "\n",
    "track2_english_transcription = pd.concat([track2_english_transcription_original_df, track2_english_transcription_test_df], axis=0)\n",
    "track2_english_transcription"
   ]
  },
  {
   "cell_type": "code",
   "execution_count": null,
   "metadata": {},
   "outputs": [],
   "source": [
    "track2_english_transcription.to_csv(f'{CURRENT_PROJECT_PATH}/datasets/MC-EIU_Track2_English_Processed/transcription.csv',\n",
    "                                    index=False, columns=['name', 'sentence', 'emotion', 'intent'])"
   ]
  }
 ],
 "metadata": {
  "kernelspec": {
   "display_name": "mer",
   "language": "python",
   "name": "python3"
  },
  "language_info": {
   "codemirror_mode": {
    "name": "ipython",
    "version": 3
   },
   "file_extension": ".py",
   "mimetype": "text/x-python",
   "name": "python",
   "nbconvert_exporter": "python",
   "pygments_lexer": "ipython3",
   "version": "3.9.20"
  }
 },
 "nbformat": 4,
 "nbformat_minor": 2
}
