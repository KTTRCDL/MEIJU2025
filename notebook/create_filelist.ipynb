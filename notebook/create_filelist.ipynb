{
 "cells": [
  {
   "cell_type": "markdown",
   "metadata": {},
   "source": [
    "# Track1 Mandarin"
   ]
  },
  {
   "cell_type": "code",
   "execution_count": 1,
   "metadata": {},
   "outputs": [],
   "source": [
    "import pandas as pd\n",
    "\n",
    "# load transcription data\n",
    "Track_Language = 'MC-EIU_Track1_Mandarin_Processed'\n",
    "data_df = pd.read_csv(f'../datasets/{Track_Language}/transcription.csv')\n",
    "\n",
    "test_data_df = data_df[data_df['name'].str.contains('Testing')]\n",
    "test_data_df = test_data_df[['name']]\n",
    "test_data_df.to_csv('../filelists/Track1_Mandarin_origin/test_filelist.txt', sep=' ', header=False, index=False)\n",
    "\n",
    "train_data_df = data_df[data_df['name'].str.contains('Training')]\n",
    "train_data_df = train_data_df[['name', 'emotion', 'intent']]\n",
    "train_data_df.to_csv('../filelists/Track1_Mandarin_origin/train_filelist.txt', sep=' ', header=False, index=False)\n",
    "\n",
    "valid_data_df = data_df[data_df['name'].str.contains('Validation')]\n",
    "valid_data_df = valid_data_df[['name', 'emotion', 'intent']]\n",
    "valid_data_df.to_csv('../filelists/Track1_Mandarin_origin/valid_filelist.txt', sep=' ', header=False, index=False)"
   ]
  },
  {
   "cell_type": "markdown",
   "metadata": {},
   "source": [
    "# Track2 English"
   ]
  },
  {
   "cell_type": "code",
   "execution_count": 1,
   "metadata": {},
   "outputs": [],
   "source": [
    "import pandas as pd\n",
    "\n",
    "# load transcription data\n",
    "Track_Language = 'MC-EIU_Track2_English_Processed'\n",
    "data_df = pd.read_csv(f'../datasets/{Track_Language}/transcription.csv')\n",
    "\n",
    "test_data_df = data_df[data_df['name'].str.contains('Testing')]\n",
    "test_data_df = test_data_df[['name']]\n",
    "test_data_df.to_csv('../filelists/Track2_English/test_filelist.txt', sep=' ', header=False, index=False)\n",
    "\n",
    "train_data_df = data_df[data_df['name'].str.contains('Training')]\n",
    "train_data_df = train_data_df[['name', 'emotion', 'intent']]\n",
    "train_data_df.to_csv('../filelists/Track2_English/train_filelist.txt', sep=' ', header=False, index=False)\n",
    "\n",
    "valid_data_df = data_df[data_df['name'].str.contains('Validation')]\n",
    "valid_data_df = valid_data_df[['name', 'emotion', 'intent']]\n",
    "valid_data_df.to_csv('../filelists/Track2_English/valid_filelist.txt', sep=' ', header=False, index=False)"
   ]
  },
  {
   "cell_type": "markdown",
   "metadata": {},
   "source": [
    "# Track2 Mandarin"
   ]
  },
  {
   "cell_type": "code",
   "execution_count": 1,
   "metadata": {},
   "outputs": [],
   "source": [
    "import pandas as pd\n",
    "\n",
    "# load transcription data\n",
    "Track_Language = 'MC-EIU_Track2_Mandarin_Processed'\n",
    "data_df = pd.read_csv(f'../datasets/{Track_Language}/transcription.csv')\n",
    "\n",
    "test_data_df = data_df[data_df['name'].str.contains('Testing')]\n",
    "test_data_df = test_data_df[['name']]\n",
    "test_data_df.to_csv('../filelists/Track2_Mandarin/test_filelist.txt', sep=' ', header=False, index=False)\n",
    "\n",
    "train_data_df = data_df[data_df['name'].str.contains('Training')]\n",
    "train_data_df = train_data_df[['name', 'emotion', 'intent']]\n",
    "train_data_df.to_csv('../filelists/Track2_Mandarin/train_filelist.txt', sep=' ', header=False, index=False)\n",
    "\n",
    "valid_data_df = data_df[data_df['name'].str.contains('Validation')]\n",
    "valid_data_df = valid_data_df[['name', 'emotion', 'intent']]\n",
    "valid_data_df.to_csv('../filelists/Track2_Mandarin/valid_filelist.txt', sep=' ', header=False, index=False)"
   ]
  }
 ],
 "metadata": {
  "kernelspec": {
   "display_name": "mer",
   "language": "python",
   "name": "python3"
  },
  "language_info": {
   "codemirror_mode": {
    "name": "ipython",
    "version": 3
   },
   "file_extension": ".py",
   "mimetype": "text/x-python",
   "name": "python",
   "nbconvert_exporter": "python",
   "pygments_lexer": "ipython3",
   "version": "3.9.20"
  }
 },
 "nbformat": 4,
 "nbformat_minor": 2
}
