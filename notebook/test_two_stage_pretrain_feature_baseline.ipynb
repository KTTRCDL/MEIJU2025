{
 "cells": [
  {
   "cell_type": "code",
   "execution_count": null,
   "metadata": {},
   "outputs": [],
   "source": [
    "# load transcription data and save 'test' to test_filelist.txt\n",
    "import pandas as pd\n",
    "import os\n",
    "import sys\n",
    "sys.path.append('../')\n",
    "\n",
    "# load transcription data\n",
    "data_df = pd.read_csv('../datasets/MC-EIU_Track1_English_Processed/transcription.csv')\n",
    "test_data_df = data_df[data_df['name'].str.contains('Testing')]\n",
    "test_data_df = test_data_df[['name']]\n",
    "test_data_df.to_csv('../filelists/Track1_English_origin/test_filelist.txt', sep=' ', header=False, index=False)"
   ]
  },
  {
   "cell_type": "code",
   "execution_count": null,
   "metadata": {},
   "outputs": [],
   "source": [
    "# load dataset\n",
    "from data.multimodal_dataset import MultimodalDataset\n",
    "import argparse\n",
    "\n",
    "opt = argparse.Namespace(\n",
    "    name='my_baseline',\n",
    "    log_dir='logs',\n",
    "    checkpoint_dir='checkpoints',\n",
    "    gpu_id='0',\n",
    "    model='baseline',\n",
    "    input_feature_dims=[512, 1024, 768],\n",
    "    emotion_network_names=['LSTMEncoder', 'TextCNN', 'LSTMEncoder'],\n",
    "    emotion_network_embed_dims=[128, 128, 128],\n",
    "    intent_network_names=['LSTMEncoder', 'TextCNN', 'LSTMEncoder'],\n",
    "    intent_network_embed_dims=[128, 128, 128],\n",
    "    hidden_size=128,\n",
    "    dataset_filelist_dir='../filelists/Track1_English_origin',\n",
    "    feature_dirs=[\n",
    "        '../datasets/MC-EIU_Track1_English_Processed/Features/wav2vec-large-c-FRA',\n",
    "        '../datasets/MC-EIU_Track1_English_Processed/Features/manet_FRA',\n",
    "        '../datasets/MC-EIU_Track1_English_Processed/Features/roberta-base-4-FRA'\n",
    "    ],\n",
    "    niter=20,\n",
    "    niter_decay=40,\n",
    "    print_freq=10,\n",
    "    batch_size=32,\n",
    "    pretrained_path='../checkpoints/my_baseline_2024-10-25_23-23-34_baseline/best.pth',\n",
    "    ablation='normal',\n",
    ")\n",
    "\n",
    "dataset = MultimodalDataset(opt, set_name='test')"
   ]
  },
  {
   "cell_type": "code",
   "execution_count": null,
   "metadata": {},
   "outputs": [],
   "source": [
    "# load model and predict\n",
    "from models.models import BaselineModel\n",
    "import torch\n",
    "\n",
    "emotions = ['happy', 'surprise', 'sad', 'disgust', 'anger', 'fear', 'neutral']\n",
    "intents = ['questioning', 'agreeing', 'acknowledging', 'encouraging', 'consoling', 'suggesting', 'wishing', 'neutral']\n",
    "\n",
    "emo2idx, idx2emo = {}, {}\n",
    "int2idx, idx2int = {}, {}\n",
    "\n",
    "for ii, emo_label in enumerate(emotions): emo2idx[emo_label] = ii\n",
    "for ii, emo_label in enumerate(emotions): idx2emo[ii] = emo_label\n",
    "\n",
    "for ii, int_label in enumerate(intents): int2idx[int_label] = ii\n",
    "for ii, int_label in enumerate(intents): idx2int[ii] = int_label\n",
    "\n",
    "submission_datas = []\n",
    "\n",
    "model = BaselineModel(opt).to('cuda:0')\n",
    "for i, data in enumerate(dataset):\n",
    "    with torch.no_grad():\n",
    "        features = data['features']\n",
    "        features = [f.unsqueeze(0).to('cuda:0') for f in features]\n",
    "        pred = model.predict(features)\n",
    "        pred_emotion_label_id = pred[0].argmax(dim=1)\n",
    "        pred_intent_label_id = pred[1].argmax(dim=1)\n",
    "        submission_data = [data['filename'], idx2emo[pred_emotion_label_id.item()], idx2int[pred_intent_label_id.item()]]\n",
    "        submission_datas.append(submission_data)"
   ]
  },
  {
   "cell_type": "code",
   "execution_count": null,
   "metadata": {},
   "outputs": [],
   "source": [
    "submission_df = pd.DataFrame(submission_datas, columns=['filename', 'emo_pred', 'int_pred'])\n",
    "submission_csv_dir = f'../{opt.log_dir}/{opt.pretrained_path.split(\"/\")[2]}'\n",
    "submission_df.to_csv(f'{submission_csv_dir}/submission.csv', index=False)\n",
    "# zip submission.csv to submission.zip in a defined directory\n",
    "os.system(f'zip submission.zip {submission_csv_dir}/submission.csv')"
   ]
  }
 ],
 "metadata": {
  "kernelspec": {
   "display_name": "mer",
   "language": "python",
   "name": "python3"
  },
  "language_info": {
   "codemirror_mode": {
    "name": "ipython",
    "version": 3
   },
   "file_extension": ".py",
   "mimetype": "text/x-python",
   "name": "python",
   "nbconvert_exporter": "python",
   "pygments_lexer": "ipython3",
   "version": "3.9.20"
  }
 },
 "nbformat": 4,
 "nbformat_minor": 2
}
